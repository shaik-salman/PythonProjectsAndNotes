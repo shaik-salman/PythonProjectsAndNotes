{
 "cells": [
  {
   "cell_type": "code",
   "execution_count": null,
   "metadata": {},
   "outputs": [],
   "source": []
  },
  {
   "cell_type": "markdown",
   "metadata": {},
   "source": [
    "In this example we will see how to count the number of digits in a number\n",
    "\n",
    "using:\n",
    "WHile Loop\n",
    "Functions\n",
    "Recursion"
   ]
  },
  {
   "cell_type": "markdown",
   "metadata": {},
   "source": []
  },
  {
   "cell_type": "code",
   "execution_count": 9,
   "metadata": {},
   "outputs": [
    {
     "name": "stdout",
     "output_type": "stream",
     "text": [
      "Number of digits in a give number =  3\n"
     ]
    }
   ],
   "source": [
    "#Using WHile Loop\n",
    "\n",
    "#Take positive input from user \n",
    "# then divide the given number into individual digts\n",
    "#And COunt those individual digits using While Loop\n",
    "\n",
    "Nm =  int(input(\"please enter a positive number here: \"))\n",
    "count = 0  #setting default count to start with 0 always\n",
    "\n",
    "while (Nm>0):  #this is to make sure the entered  number is positive number and >0\n",
    "    Nm=Nm//10\n",
    "    count=count+1\n",
    "print(\"Number of digits in a give number = \",count)"
   ]
  },
  {
   "cell_type": "code",
   "execution_count": 10,
   "metadata": {},
   "outputs": [
    {
     "name": "stdout",
     "output_type": "stream",
     "text": [
      "number of digits in a given number are: 4\n"
     ]
    }
   ],
   "source": [
    "#using function\n",
    "\n",
    "def func(num):\n",
    "    count=0\n",
    "    while(num>0):\n",
    "        num=num//10\n",
    "        count=count+1\n",
    "    print(\"number of digits in a given number are:\", count)\n",
    "    \n",
    "func(1234)"
   ]
  },
  {
   "cell_type": "code",
   "execution_count": 11,
   "metadata": {},
   "outputs": [
    {
     "name": "stdout",
     "output_type": "stream",
     "text": [
      " number of digits in a given number are  , 4\n"
     ]
    }
   ],
   "source": [
    "#using resursion method:\n",
    "\n",
    "count = 0\n",
    "def func(num ):\n",
    "    global count         ##setting this to global variable and the initial value can be used modified  inside the function\n",
    "    \n",
    "    if(num > 0):\n",
    "        count =  count+1\n",
    "        func(num//10)\n",
    "    return  count\n",
    "\n",
    "num = int(input(\"please enter your number here : \"))\n",
    "\n",
    "count =  func(num)\n",
    "print(\" number of digits in a given number are  ,\",count)"
   ]
  },
  {
   "cell_type": "code",
   "execution_count": null,
   "metadata": {},
   "outputs": [],
   "source": []
  }
 ],
 "metadata": {
  "kernelspec": {
   "display_name": "pyspark_env",
   "language": "python",
   "name": "python3"
  },
  "language_info": {
   "codemirror_mode": {
    "name": "ipython",
    "version": 3
   },
   "file_extension": ".py",
   "mimetype": "text/x-python",
   "name": "python",
   "nbconvert_exporter": "python",
   "pygments_lexer": "ipython3",
   "version": "3.12.0"
  }
 },
 "nbformat": 4,
 "nbformat_minor": 2
}
