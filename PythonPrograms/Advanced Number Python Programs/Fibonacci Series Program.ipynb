{
 "cells": [
  {
   "cell_type": "markdown",
   "metadata": {},
   "source": [
    "In this example we will see the different ways to get the fibonacci series using python\n",
    "\n",
    "Defination: \n",
    "    Fibonacci Series is a sequence of numbers in which each number is the sum of the two preceding numbers.\n",
    "    \n",
    "    \n",
    "We will see in below examples to acheive this using:\n",
    "\n",
    "WHileLoop and  ForLoop\n"
   ]
  },
  {
   "cell_type": "markdown",
   "metadata": {},
   "source": [
    "Fibonacci series starts with 0 and 1 numbers\n",
    "each number is the sum of two preceding numbers\n",
    "\n",
    "(0,1,0+1,1+1...)\n",
    "\n",
    "f(0) = 0\n",
    "f(1)=1\n",
    "f(n) =  f(n-1) + f(n-2)"
   ]
  },
  {
   "cell_type": "code",
   "execution_count": 2,
   "metadata": {},
   "outputs": [
    {
     "name": "stdout",
     "output_type": "stream",
     "text": [
      "0\n",
      "1\n",
      "1\n",
      "2\n",
      "3\n",
      "5\n",
      "8\n",
      "13\n",
      "21\n",
      "34\n"
     ]
    }
   ],
   "source": [
    "#using while loop\n",
    "\n",
    "num = int(input())\n",
    "i=0\n",
    "f1 = 0\n",
    "f2 = 1\n",
    "\n",
    "while (i<num):\n",
    "    if(i<=1):\n",
    "        nect =i\n",
    "    else:\n",
    "        nect = f1+f2\n",
    "        f1=f2\n",
    "        f2=nect\n",
    "    print(nect)\n",
    "    i=i+1"
   ]
  },
  {
   "cell_type": "code",
   "execution_count": 5,
   "metadata": {},
   "outputs": [
    {
     "name": "stdout",
     "output_type": "stream",
     "text": [
      "1\n",
      "1\n",
      "2\n",
      "3\n",
      "5\n",
      "8\n",
      "13\n",
      "21\n",
      "34\n"
     ]
    }
   ],
   "source": [
    "#for loop\n",
    "\n",
    "number = int(input())\n",
    "f1=0\n",
    "f2 =1\n",
    "\n",
    "for num in range(1,number):\n",
    "    if(num<=1):\n",
    "        next=num\n",
    "    else:\n",
    "        next =  f1+f2\n",
    "        f1=f2\n",
    "        f2=next\n",
    "    print(next)"
   ]
  },
  {
   "cell_type": "code",
   "execution_count": null,
   "metadata": {},
   "outputs": [],
   "source": []
  }
 ],
 "metadata": {
  "kernelspec": {
   "display_name": "pyspark_env",
   "language": "python",
   "name": "python3"
  },
  "language_info": {
   "codemirror_mode": {
    "name": "ipython",
    "version": 3
   },
   "file_extension": ".py",
   "mimetype": "text/x-python",
   "name": "python",
   "nbconvert_exporter": "python",
   "pygments_lexer": "ipython3",
   "version": "3.12.0"
  }
 },
 "nbformat": 4,
 "nbformat_minor": 2
}
