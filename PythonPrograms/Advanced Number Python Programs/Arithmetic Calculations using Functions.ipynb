{
 "cells": [
  {
   "cell_type": "markdown",
   "metadata": {},
   "source": [
    "In this Example we will be writing a python program to do arithmetic cauculations using function.\n",
    "\n",
    "We will define few seperate functions for cauculations such as\n",
    "Addition, Subtraction, Division, Multiplication, Modulus, and Exponent."
   ]
  },
  {
   "cell_type": "code",
   "execution_count": 10,
   "metadata": {},
   "outputs": [
    {
     "name": "stdout",
     "output_type": "stream",
     "text": [
      "entered values are ,  22  &  7\n",
      " the addidion of 2 numbres is =29\n",
      " the subtraction of 2 numbres is =15\n",
      " the multiplication  of 2 numbres is =154\n",
      " the division of 2 numbres is =3.142857142857143\n",
      " the floor division of 2 numbres is =3\n",
      " the modulus of 2 numbres is =1\n",
      " the exponent of 2 numbres is =2494357888\n"
     ]
    }
   ],
   "source": [
    "def add(num1,num2):\n",
    "    \n",
    "    return num1+num2\n",
    "\n",
    "def sub(num1,num2):\n",
    "    return num1-num2\n",
    "\n",
    "def multi(num1,num2):\n",
    "    return num1*num2\n",
    "\n",
    "def div(num1,num2):\n",
    "    return num1/num2\n",
    "\n",
    "def floordiv(num1,num2):\n",
    "    return num1//num2\n",
    "\n",
    "def mod(num1,num2):\n",
    "    return num1%num2\n",
    "\n",
    "def expo(num1,num2):\n",
    "    return num1**num2\n",
    "\n",
    "num1= int(input(\"Enter your number 1 here: \"))\n",
    "num2 =  int(input(\"Enter your number 2 here: \"))\n",
    "\n",
    "print(\"entered values are , \",num1,' & ' ,num2)\n",
    "print(\" the addidion of 2 numbres is ={0}\".format(add(num1,num2)))\n",
    "print(\" the subtraction of 2 numbres is ={0}\".format(sub(num1,num2)))\n",
    "print(\" the multiplication  of 2 numbres is ={0}\".format(multi(num1,num2)))\n",
    "print(\" the division of 2 numbres is ={0}\".format(div(num1,num2)))\n",
    "print(\" the floor division of 2 numbres is ={0}\".format(floordiv(num1,num2)))\n",
    "print(\" the modulus of 2 numbres is ={0}\".format(mod(num1,num2)))\n",
    "print(\" the exponent of 2 numbres is ={0}\".format(expo(num1,num2)))\n"
   ]
  },
  {
   "cell_type": "code",
   "execution_count": null,
   "metadata": {},
   "outputs": [],
   "source": []
  }
 ],
 "metadata": {
  "kernelspec": {
   "display_name": "pyspark_env",
   "language": "python",
   "name": "python3"
  },
  "language_info": {
   "codemirror_mode": {
    "name": "ipython",
    "version": 3
   },
   "file_extension": ".py",
   "mimetype": "text/x-python",
   "name": "python",
   "nbconvert_exporter": "python",
   "pygments_lexer": "ipython3",
   "version": "3.12.0"
  }
 },
 "nbformat": 4,
 "nbformat_minor": 2
}
