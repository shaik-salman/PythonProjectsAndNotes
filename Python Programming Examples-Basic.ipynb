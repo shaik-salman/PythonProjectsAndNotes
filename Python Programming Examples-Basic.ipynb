{
 "cells": [
  {
   "cell_type": "code",
   "execution_count": 9,
   "metadata": {},
   "outputs": [
    {
     "name": "stdout",
     "output_type": "stream",
     "text": [
      "Hello World\n",
      "\n",
      "\n",
      "--#Using a Variable\n",
      "hello WOrld\n",
      "\n",
      "\n",
      "----#using Escape Characters----\n",
      "Hello \tword\n",
      "Hello \n",
      " word\n"
     ]
    }
   ],
   "source": [
    "#Python Program to Print Hello World\n",
    "print(\"Hello World\")\n",
    "\n",
    "#Using a Variable\n",
    "print('\\n')\n",
    "print(\"--#Using a Variable\")\n",
    "message = \"hello WOrld\"\n",
    "print(message)\n",
    "\n",
    "print('\\n')\n",
    "#using Escape Characters\n",
    "print(\"----#using Escape Characters----\")\n",
    "\n",
    "print(\"Hello \\tword\")\n",
    "print(\"Hello \\n word\")"
   ]
  },
  {
   "cell_type": "code",
   "execution_count": 10,
   "metadata": {},
   "outputs": [
    {
     "name": "stdout",
     "output_type": "stream",
     "text": [
      "hello World\n"
     ]
    }
   ],
   "source": [
    "#Python program to print Hello World using functions\n",
    "\n",
    "def message():\n",
    "    print(\"hello World\")\n",
    "    \n",
    "message()"
   ]
  },
  {
   "cell_type": "code",
   "execution_count": 11,
   "metadata": {},
   "outputs": [
    {
     "name": "stdout",
     "output_type": "stream",
     "text": [
      "Your message is:  hi there  i am learning python\n"
     ]
    }
   ],
   "source": [
    "#We can print custom messages and take inputs from Users:\n",
    "\n",
    "message = str(input(\"Please enter your message here: \"))\n",
    "\n",
    "print(\"Your message is: \",message)"
   ]
  },
  {
   "cell_type": "markdown",
   "metadata": {},
   "source": []
  },
  {
   "cell_type": "code",
   "execution_count": 12,
   "metadata": {},
   "outputs": [
    {
     "name": "stdout",
     "output_type": "stream",
     "text": [
      "Hi my self salman am learning python by doing it \n",
      "Hi my self salman am learning python by doing it \n",
      "Hi my self salman am learning python by doing it \n"
     ]
    }
   ],
   "source": [
    "#Python Program to Print Hello World multiple times using for loop\n",
    "\n",
    "\n",
    "message = str(input(\"Please any text here to print it 3 times: \"))\n",
    "\n",
    "for i in range(3):\n",
    "    print(message)"
   ]
  },
  {
   "cell_type": "code",
   "execution_count": null,
   "metadata": {},
   "outputs": [],
   "source": []
  }
 ],
 "metadata": {
  "kernelspec": {
   "display_name": "pyspark_env",
   "language": "python",
   "name": "python3"
  },
  "language_info": {
   "codemirror_mode": {
    "name": "ipython",
    "version": 3
   },
   "file_extension": ".py",
   "mimetype": "text/x-python",
   "name": "python",
   "nbconvert_exporter": "python",
   "pygments_lexer": "ipython3",
   "version": "3.12.0"
  }
 },
 "nbformat": 4,
 "nbformat_minor": 2
}
