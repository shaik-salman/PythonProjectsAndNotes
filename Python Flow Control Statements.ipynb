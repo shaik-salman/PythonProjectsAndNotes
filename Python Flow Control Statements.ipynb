{
 "cells": [
  {
   "cell_type": "markdown",
   "metadata": {},
   "source": [
    "Flow Statements contains a condition followed by a block of code, The condition will always return either True or False.\n",
    "\n",
    "Based on the result, the COntrol Floe STatement will execute the block of code"
   ]
  },
  {
   "cell_type": "markdown",
   "metadata": {},
   "source": [
    "If Tue, then true statement will execute otherwise false statements execute or exit from a flow.\n",
    "\n",
    "In this noteBook we will cover all the COntrol Flow STatements:\n",
    "\n",
    "1) If Else Statement\n",
    "2) Nested If STatement\n",
    "3) Elif STatement\n",
    "4) While Loop\n",
    "5) For loop\n",
    "6) Break Statement\n",
    "6) Continue Statement"
   ]
  },
  {
   "cell_type": "markdown",
   "metadata": {},
   "source": []
  }
 ],
 "metadata": {
  "kernelspec": {
   "display_name": "pyspark_env",
   "language": "python",
   "name": "python3"
  },
  "language_info": {
   "name": "python",
   "version": "3.12.0"
  }
 },
 "nbformat": 4,
 "nbformat_minor": 2
}
