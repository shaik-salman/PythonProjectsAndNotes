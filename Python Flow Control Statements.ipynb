{
 "cells": [
  {
   "cell_type": "markdown",
   "metadata": {},
   "source": [
    "Flow Statements contains a condition followed by a block of code, The condition will always return either True or False.\n",
    "\n",
    "Based on the result, the COntrol Floe STatement will execute the block of code"
   ]
  },
  {
   "cell_type": "markdown",
   "metadata": {},
   "source": [
    "If Tue, then true statement will execute otherwise false statements execute or exit from a flow.\n",
    "\n",
    "In this noteBook we will cover all the COntrol Flow STatements:\n",
    "\n",
    "1) If Else Statement\n",
    "2) Nested If STatement\n",
    "3) Elif STatement\n",
    "4) While Loop\n",
    "5) For loop\n",
    "6) Break Statement\n",
    "6) Continue Statement"
   ]
  },
  {
   "cell_type": "markdown",
   "metadata": {},
   "source": [
    "** Python If Else Statement **"
   ]
  },
  {
   "cell_type": "code",
   "execution_count": null,
   "metadata": {},
   "outputs": [],
   "source": [
    "print(\"Hello\")"
   ]
  },
  {
   "cell_type": "code",
   "execution_count": null,
   "metadata": {},
   "outputs": [],
   "source": [
    "a = int(input(\"Number\"))\n",
    "if a >0:\n",
    "    print(\"Entered Value is a positive number and the value is: \",a)\n",
    "elif a ==0:\n",
    "    print(\"Enterd Value is Zero\")\n",
    "else:\n",
    "    print(\"You have entered a negative value and the value is :\",a)"
   ]
  },
  {
   "cell_type": "code",
   "execution_count": null,
   "metadata": {},
   "outputs": [],
   "source": [
    "#Example 2:\n",
    "\n",
    "marksobtained =  int(input(\"Please enter your marks: \"))\n",
    "passing_marks = 35\n",
    "\n",
    "if marksobtained >= 70:\n",
    "    print(\"COngratulations, you cleared the subject and scored A grad. Your score is:\", marksobtained)\n",
    "elif marksobtained >= 35 and marksobtained <70:\n",
    "    print(\"COngratulations, You have scored B grade. Your score is: \",marksobtained)\n",
    "else:\n",
    "    print(\"Better luck next time you have failed  in the subject. your score is: \",marksobtained)"
   ]
  },
  {
   "cell_type": "markdown",
   "metadata": {},
   "source": [
    "Python Nested If Example"
   ]
  },
  {
   "cell_type": "code",
   "execution_count": null,
   "metadata": {},
   "outputs": [],
   "source": []
  },
  {
   "cell_type": "markdown",
   "metadata": {},
   "source": []
  }
 ],
 "metadata": {
  "kernelspec": {
   "display_name": "pyspark_env",
   "language": "python",
   "name": "python3"
  },
  "language_info": {
   "codemirror_mode": {
    "name": "ipython",
    "version": 3
   },
   "file_extension": ".py",
   "mimetype": "text/x-python",
   "name": "python",
   "nbconvert_exporter": "python",
   "pygments_lexer": "ipython3",
   "version": "3.12.0"
  }
 },
 "nbformat": 4,
 "nbformat_minor": 2
}
